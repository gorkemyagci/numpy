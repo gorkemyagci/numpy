{
 "cells": [
  {
   "cell_type": "markdown",
   "id": "f09efde7-1627-4303-a564-8c28a908ad24",
   "metadata": {},
   "source": [
    "# Numpy"
   ]
  },
  {
   "cell_type": "markdown",
   "id": "d7a2a3ce-2ad8-4815-8e0c-8114c8593b0e",
   "metadata": {},
   "source": [
    "* **Numerical Python**  \n",
    "* **Bilimsel hesaplamalar için kullanılır.**  \n",
    "* **Arrayler / çok boyutlu arrayler ve matrisler üzerinden yüksek performanslı çalışma imkanı sağlar.**  \n",
    "* **Temelleri 1995'te (matrix-sig, Guide Van Rossum) atılmış nihai olarak 2005 (Travis Oliphant) yılında hayata geçmiştir.**  \n",
    "* **Listelere benzerdir, farkı; verimli veri saklama ve vektörel operasyonlardır.**\n"
   ]
  },
  {
   "cell_type": "markdown",
   "id": "d0eae2cd-4d84-49c0-bb0b-6b983c62c49c",
   "metadata": {},
   "source": [
    "## Neden Numpy"
   ]
  },
  {
   "cell_type": "code",
   "execution_count": 2,
   "id": "7a575cf3-098c-46a9-80ad-6d68109e46bb",
   "metadata": {},
   "outputs": [
    {
     "data": {
      "text/plain": [
       "array([ 2,  6, 12, 20])"
      ]
     },
     "execution_count": 2,
     "metadata": {},
     "output_type": "execute_result"
    }
   ],
   "source": [
    "import numpy as np\n",
    "a = np.array([1,2,3,4])\n",
    "b = np.array([2,3,4,5])\n",
    "ab = a * b\n",
    "ab\n",
    "# Optimizasyon\n",
    "# Veri saklama\n",
    "# Anlitik, vektörel operasyon ve numerci hesaplama yapma imkanı sağlar."
   ]
  },
  {
   "cell_type": "code",
   "execution_count": 25,
   "id": "95727a7d-93c7-443e-be3e-8334e94d16ff",
   "metadata": {},
   "outputs": [],
   "source": [
    "x = np.array([3.14,4,2,13])\n",
    "x # signle type\n",
    "x = np.array([3.14,4,2,13], dtype = 'int') # set type"
   ]
  },
  {
   "cell_type": "code",
   "execution_count": 46,
   "id": "1bd277b3-fca9-45ea-9e69-7644c8246c81",
   "metadata": {},
   "outputs": [
    {
     "data": {
      "text/plain": [
       "array([[40, 87, 42],\n",
       "       [62, 19, 76],\n",
       "       [67, 26, 43]])"
      ]
     },
     "execution_count": 46,
     "metadata": {},
     "output_type": "execute_result"
    }
   ],
   "source": [
    "np.zeros(10, dtype = 'int')\n",
    "np.ones((3,5), dtype = 'int')\n",
    "np.full((3,5),5)\n",
    "np.arange(0,31,3)\n",
    "np.linspace(0,1,10)\n",
    "np.random.normal(10,4,(3,4))\n",
    "np.random.randint(0,100,(3,3))"
   ]
  },
  {
   "cell_type": "code",
   "execution_count": 51,
   "id": "b1f79cf2-b870-4698-9910-3525606beec5",
   "metadata": {},
   "outputs": [
    {
     "data": {
      "text/plain": [
       "dtype('int64')"
      ]
     },
     "execution_count": 51,
     "metadata": {},
     "output_type": "execute_result"
    }
   ],
   "source": [
    "a = np.random.randint(10, size = 10)\n",
    "a.ndim\n",
    "a.shape\n",
    "a.size\n",
    "a.dtype"
   ]
  },
  {
   "cell_type": "code",
   "execution_count": 56,
   "id": "e07a2fdd-5883-48b1-b8e7-0b09966e02be",
   "metadata": {},
   "outputs": [
    {
     "data": {
      "text/plain": [
       "dtype('int64')"
      ]
     },
     "execution_count": 56,
     "metadata": {},
     "output_type": "execute_result"
    }
   ],
   "source": [
    "b = np.random.randint(10, size = (3,5))\n",
    "b.ndim\n",
    "b.shape\n",
    "b.size\n",
    "b.dtype"
   ]
  },
  {
   "cell_type": "code",
   "execution_count": 58,
   "id": "2a15dc5b-7513-4b81-8099-9c8687f55405",
   "metadata": {},
   "outputs": [
    {
     "data": {
      "text/plain": [
       "array([[1, 2, 3],\n",
       "       [4, 5, 6],\n",
       "       [7, 8, 9]])"
      ]
     },
     "execution_count": 58,
     "metadata": {},
     "output_type": "execute_result"
    }
   ],
   "source": [
    "# Reshape\n",
    "np.arange(1,10).reshape((3,3))"
   ]
  },
  {
   "cell_type": "code",
   "execution_count": 71,
   "id": "5f35481c-6afc-4c88-adc0-661f89f71bc0",
   "metadata": {},
   "outputs": [
    {
     "data": {
      "text/plain": [
       "2"
      ]
     },
     "execution_count": 71,
     "metadata": {},
     "output_type": "execute_result"
    }
   ],
   "source": [
    "a = np.arange(1,10)\n",
    "a.ndim\n",
    "b = a.reshape((3,3))\n",
    "b.ndim"
   ]
  },
  {
   "cell_type": "code",
   "execution_count": 75,
   "id": "4a53a1cf-217b-47ef-9928-fd0508b609e8",
   "metadata": {},
   "outputs": [
    {
     "data": {
      "text/plain": [
       "array([1, 2, 3, 4, 5, 6, 7, 8, 9])"
      ]
     },
     "execution_count": 75,
     "metadata": {},
     "output_type": "execute_result"
    }
   ],
   "source": [
    "# Concatenation - Birleştirme\n",
    "x = np.array([1,2,3])\n",
    "y = np.array([4,5,6])\n",
    "np.concatenate([x,y])\n",
    "z = np.array([7,8,9])\n",
    "np.concatenate([x,y,z])"
   ]
  },
  {
   "cell_type": "code",
   "execution_count": 79,
   "id": "f8acf6eb-99fe-4da8-bf96-d703d82650a6",
   "metadata": {},
   "outputs": [
    {
     "data": {
      "text/plain": [
       "array([[1, 2, 3, 1, 2, 3],\n",
       "       [4, 5, 6, 4, 5, 6]])"
      ]
     },
     "execution_count": 79,
     "metadata": {},
     "output_type": "execute_result"
    }
   ],
   "source": [
    "# İki boyutlu birleştirme\n",
    "a = np.array([[1,2,3], \n",
    "              [4,5,6]])\n",
    "np.concatenate([a,a], axis = 1)"
   ]
  },
  {
   "cell_type": "code",
   "execution_count": 94,
   "id": "5d82680d-c392-4492-b96a-c340b3b4530a",
   "metadata": {},
   "outputs": [
    {
     "data": {
      "text/plain": [
       "array([ 3, 34,  5,  3])"
      ]
     },
     "execution_count": 94,
     "metadata": {},
     "output_type": "execute_result"
    }
   ],
   "source": [
    "# Array Ayırma (Splitting)\n",
    "x = np.array([1,2,3,99,234,3,34,5,3])\n",
    "a,b,c = np.split(x,[3,5])\n",
    "a\n",
    "b\n",
    "c"
   ]
  },
  {
   "cell_type": "code",
   "execution_count": 107,
   "id": "fd3c55a4-2a3b-497f-a864-5eb8fa7dd74b",
   "metadata": {},
   "outputs": [
    {
     "data": {
      "text/plain": [
       "array([[ 2,  3],\n",
       "       [ 6,  7],\n",
       "       [10, 11],\n",
       "       [14, 15]])"
      ]
     },
     "execution_count": 107,
     "metadata": {},
     "output_type": "execute_result"
    }
   ],
   "source": [
    "# iki boyutlu ayırma (splitting)\n",
    "m = np.arange(16).reshape(4,4)\n",
    "top, bottom = np.vsplit(m,[2])\n",
    "left, right = np.hsplit(m,[2])\n",
    "right"
   ]
  },
  {
   "cell_type": "code",
   "execution_count": 111,
   "id": "81ce9f68-2787-4487-bc5e-bd80b01288fb",
   "metadata": {},
   "outputs": [
    {
     "data": {
      "text/plain": [
       "array([1, 2, 3, 4, 9])"
      ]
     },
     "execution_count": 111,
     "metadata": {},
     "output_type": "execute_result"
    }
   ],
   "source": [
    "# Sorting\n",
    "v = np.array([1,3,4,9,2])\n",
    "np.sort(v)\n",
    "v.sort() # yapıyı bozar\n",
    "v"
   ]
  },
  {
   "cell_type": "code",
   "execution_count": 117,
   "id": "aa783f59-3f41-4eaa-9a1e-bce5845368b7",
   "metadata": {},
   "outputs": [
    {
     "data": {
      "text/plain": [
       "array([[21.34628851, 16.79358769, 18.03171812],\n",
       "       [26.01344353, 21.76581562, 22.9502493 ],\n",
       "       [31.75160066, 25.01043095, 26.1869324 ]])"
      ]
     },
     "execution_count": 117,
     "metadata": {},
     "output_type": "execute_result"
    }
   ],
   "source": [
    "# iki boyutlu array siralama\n",
    "m = np.random.normal(20,5,(3,3))\n",
    "np.sort(m, axis = 0)"
   ]
  },
  {
   "cell_type": "code",
   "execution_count": 8,
   "id": "4ebcca7c-638c-4bb5-90a0-ee066cb78869",
   "metadata": {},
   "outputs": [
    {
     "data": {
      "text/plain": [
       "array([5, 9, 1, 0, 1, 0, 9, 2, 4, 7])"
      ]
     },
     "execution_count": 8,
     "metadata": {},
     "output_type": "execute_result"
    }
   ],
   "source": [
    "# Index ile elemanlara erişmek\n",
    "a = np.random.randint(10, size = 10)\n",
    "a"
   ]
  },
  {
   "cell_type": "code",
   "execution_count": 10,
   "id": "834679d4-436c-4942-98ff-1479ba043cc9",
   "metadata": {},
   "outputs": [
    {
     "data": {
      "text/plain": [
       "7"
      ]
     },
     "execution_count": 10,
     "metadata": {},
     "output_type": "execute_result"
    }
   ],
   "source": [
    "a[-1]"
   ]
  },
  {
   "cell_type": "code",
   "execution_count": 11,
   "id": "ca7444f3-476e-4ed6-835c-e2084329c55f",
   "metadata": {},
   "outputs": [],
   "source": [
    "a[0] = 100"
   ]
  },
  {
   "cell_type": "code",
   "execution_count": 12,
   "id": "4745fa3a-de48-4cf0-a581-94b4bda1909a",
   "metadata": {},
   "outputs": [
    {
     "data": {
      "text/plain": [
       "array([100,   9,   1,   0,   1,   0,   9,   2,   4,   7])"
      ]
     },
     "execution_count": 12,
     "metadata": {},
     "output_type": "execute_result"
    }
   ],
   "source": [
    "a"
   ]
  },
  {
   "cell_type": "code",
   "execution_count": 13,
   "id": "2c68171c-672f-4904-9975-f8b1eef69eb4",
   "metadata": {},
   "outputs": [],
   "source": [
    "m = np.random.randint(10, size = (3,5))"
   ]
  },
  {
   "cell_type": "code",
   "execution_count": 14,
   "id": "188df983-3192-4a84-bb7f-9129e5eb73cc",
   "metadata": {},
   "outputs": [
    {
     "data": {
      "text/plain": [
       "array([[0, 4, 7, 8, 8],\n",
       "       [5, 1, 3, 4, 2],\n",
       "       [4, 3, 5, 3, 1]])"
      ]
     },
     "execution_count": 14,
     "metadata": {},
     "output_type": "execute_result"
    }
   ],
   "source": [
    "m"
   ]
  },
  {
   "cell_type": "code",
   "execution_count": 25,
   "id": "db0d9f74-571a-4a05-a2f5-861f7545d906",
   "metadata": {},
   "outputs": [
    {
     "data": {
      "text/plain": [
       "array([[  0,   4,   7,   8,   8],\n",
       "       [  5,   1,   3,   4,   2],\n",
       "       [  4,   3,   5, 102,   1]])"
      ]
     },
     "execution_count": 25,
     "metadata": {},
     "output_type": "execute_result"
    }
   ],
   "source": [
    "m[0,0]\n",
    "m[1,1]\n",
    "m[2,3] = 102\n",
    "m"
   ]
  },
  {
   "cell_type": "code",
   "execution_count": 36,
   "id": "2333e43a-528c-4a78-82bd-de1770faaebd",
   "metadata": {},
   "outputs": [
    {
     "data": {
      "text/plain": [
       "array([20, 25])"
      ]
     },
     "execution_count": 36,
     "metadata": {},
     "output_type": "execute_result"
    }
   ],
   "source": [
    "# Array alt kümesine erismek - Slice\n",
    "a = np.arange(20,30)\n",
    "a[:3]\n",
    "a[6:]\n",
    "a[2::3]\n",
    "a[0::5]"
   ]
  },
  {
   "cell_type": "code",
   "execution_count": 38,
   "id": "bba87e2e-aeeb-4c27-905e-7467d567bd51",
   "metadata": {},
   "outputs": [
    {
     "data": {
      "text/plain": [
       "array([[5, 4, 1, 6, 0],\n",
       "       [5, 1, 3, 6, 4],\n",
       "       [0, 2, 7, 7, 0],\n",
       "       [3, 6, 9, 3, 3],\n",
       "       [4, 8, 1, 9, 8]])"
      ]
     },
     "execution_count": 38,
     "metadata": {},
     "output_type": "execute_result"
    }
   ],
   "source": [
    "# İki boyutlu slice islemleri\n",
    "m = np.random.randint(10, size = (5,5))\n",
    "m"
   ]
  },
  {
   "cell_type": "code",
   "execution_count": 44,
   "id": "92128920-e873-4234-abf2-f97fb3e9deea",
   "metadata": {},
   "outputs": [
    {
     "data": {
      "text/plain": [
       "array([4, 1, 2, 6, 8])"
      ]
     },
     "execution_count": 44,
     "metadata": {},
     "output_type": "execute_result"
    }
   ],
   "source": [
    "m[:,0]\n",
    "m[:,1]"
   ]
  },
  {
   "cell_type": "code",
   "execution_count": 49,
   "id": "ba5e88de-2228-4181-820a-c0e91c3802c5",
   "metadata": {},
   "outputs": [
    {
     "data": {
      "text/plain": [
       "array([5, 1, 3, 6, 4])"
      ]
     },
     "execution_count": 49,
     "metadata": {},
     "output_type": "execute_result"
    }
   ],
   "source": [
    "m[0,:]\n",
    "m[1,:]"
   ]
  },
  {
   "cell_type": "code",
   "execution_count": 53,
   "id": "2126de84-7208-4156-b845-059d4939d0a4",
   "metadata": {},
   "outputs": [
    {
     "data": {
      "text/plain": [
       "array([[5, 4, 1, 6],\n",
       "       [5, 1, 3, 6]])"
      ]
     },
     "execution_count": 53,
     "metadata": {},
     "output_type": "execute_result"
    }
   ],
   "source": [
    "m[0:2, 0:4]"
   ]
  },
  {
   "cell_type": "code",
   "execution_count": 55,
   "id": "067b1828-042f-44d9-8326-5cd4f335a578",
   "metadata": {},
   "outputs": [
    {
     "data": {
      "text/plain": [
       "array([[6, 0],\n",
       "       [6, 4],\n",
       "       [7, 0],\n",
       "       [3, 3],\n",
       "       [9, 8]])"
      ]
     },
     "execution_count": 55,
     "metadata": {},
     "output_type": "execute_result"
    }
   ],
   "source": [
    "m[::,3:5]"
   ]
  },
  {
   "cell_type": "code",
   "execution_count": 59,
   "id": "00c8eba3-2213-4286-81b9-f3744ad8052b",
   "metadata": {},
   "outputs": [
    {
     "data": {
      "text/plain": [
       "array([[8, 6, 1, 7, 8],\n",
       "       [3, 8, 9, 6, 4],\n",
       "       [5, 3, 6, 1, 2],\n",
       "       [3, 3, 3, 7, 8],\n",
       "       [3, 0, 6, 7, 5]])"
      ]
     },
     "execution_count": 59,
     "metadata": {},
     "output_type": "execute_result"
    }
   ],
   "source": [
    "# Alt küme üzerinde işlem yapmak\n",
    "a = np.random.randint(10, size = (5,5))\n",
    "a"
   ]
  },
  {
   "cell_type": "code",
   "execution_count": 60,
   "id": "013ab987-db01-44a4-8a84-1915a8b8f8e2",
   "metadata": {},
   "outputs": [
    {
     "data": {
      "text/plain": [
       "array([[8, 6],\n",
       "       [3, 8],\n",
       "       [5, 3]])"
      ]
     },
     "execution_count": 60,
     "metadata": {},
     "output_type": "execute_result"
    }
   ],
   "source": [
    "alt_a = a[0:3,0:2]\n",
    "alt_a"
   ]
  },
  {
   "cell_type": "code",
   "execution_count": 61,
   "id": "4b602473-98b5-47b2-aaad-5bbdf38fb11c",
   "metadata": {},
   "outputs": [],
   "source": [
    "alt_a[0,0] = 9999\n",
    "alt_a[1,1] = 888"
   ]
  },
  {
   "cell_type": "code",
   "execution_count": 62,
   "id": "0db08c04-c7cb-4eb1-a7d9-746068809ecd",
   "metadata": {},
   "outputs": [
    {
     "data": {
      "text/plain": [
       "array([[9999,    6],\n",
       "       [   3,  888],\n",
       "       [   5,    3]])"
      ]
     },
     "execution_count": 62,
     "metadata": {},
     "output_type": "execute_result"
    }
   ],
   "source": [
    "alt_a"
   ]
  },
  {
   "cell_type": "code",
   "execution_count": 63,
   "id": "14219e9c-644d-4683-bd4c-7ca4e282a40f",
   "metadata": {},
   "outputs": [
    {
     "data": {
      "text/plain": [
       "array([[9999,    6,    1,    7,    8],\n",
       "       [   3,  888,    9,    6,    4],\n",
       "       [   5,    3,    6,    1,    2],\n",
       "       [   3,    3,    3,    7,    8],\n",
       "       [   3,    0,    6,    7,    5]])"
      ]
     },
     "execution_count": 63,
     "metadata": {},
     "output_type": "execute_result"
    }
   ],
   "source": [
    "a"
   ]
  },
  {
   "cell_type": "code",
   "execution_count": 69,
   "id": "fff14b6d-dd50-4497-8846-ad5e536634ed",
   "metadata": {},
   "outputs": [
    {
     "data": {
      "text/plain": [
       "array([[1, 2, 5, 7, 0],\n",
       "       [9, 5, 3, 4, 2],\n",
       "       [7, 3, 4, 5, 4],\n",
       "       [3, 1, 2, 6, 3],\n",
       "       [4, 2, 6, 8, 5]])"
      ]
     },
     "execution_count": 69,
     "metadata": {},
     "output_type": "execute_result"
    }
   ],
   "source": [
    "m = np.random.randint(10, size = (5,5))\n",
    "m"
   ]
  },
  {
   "cell_type": "code",
   "execution_count": 70,
   "id": "80629b12-b7de-4144-89c9-93329d38a4ba",
   "metadata": {},
   "outputs": [
    {
     "data": {
      "text/plain": [
       "array([[1, 2],\n",
       "       [9, 5],\n",
       "       [7, 3]])"
      ]
     },
     "execution_count": 70,
     "metadata": {},
     "output_type": "execute_result"
    }
   ],
   "source": [
    "alt_b = m[0:3, 0:2].copy()\n",
    "alt_b"
   ]
  },
  {
   "cell_type": "code",
   "execution_count": 72,
   "id": "5ad22032-b0c4-412f-b599-244b1a109abe",
   "metadata": {},
   "outputs": [
    {
     "data": {
      "text/plain": [
       "array([[1, 2, 5, 7, 0],\n",
       "       [9, 5, 3, 4, 2],\n",
       "       [7, 3, 4, 5, 4],\n",
       "       [3, 1, 2, 6, 3],\n",
       "       [4, 2, 6, 8, 5]])"
      ]
     },
     "execution_count": 72,
     "metadata": {},
     "output_type": "execute_result"
    }
   ],
   "source": [
    "alt_b[0,1] = 555\n",
    "alt_b\n",
    "m"
   ]
  },
  {
   "cell_type": "code",
   "execution_count": 73,
   "id": "63be7a02-82a7-48c9-90c3-e9d82b265019",
   "metadata": {},
   "outputs": [
    {
     "data": {
      "text/plain": [
       "array([ 0,  3,  6,  9, 12, 15, 18, 21, 24, 27])"
      ]
     },
     "execution_count": 73,
     "metadata": {},
     "output_type": "execute_result"
    }
   ],
   "source": [
    "# Fancy index ile elemanlara erişmek\n",
    "v = np.arange(0,30,3)"
   ]
  },
  {
   "cell_type": "code",
   "execution_count": 74,
   "id": "5869a509-2666-42aa-b1c3-dd25a253a57e",
   "metadata": {},
   "outputs": [
    {
     "data": {
      "text/plain": [
       "3"
      ]
     },
     "execution_count": 74,
     "metadata": {},
     "output_type": "execute_result"
    }
   ],
   "source": [
    "v[1]"
   ]
  },
  {
   "cell_type": "code",
   "execution_count": 75,
   "id": "9238bf90-f29e-413e-af14-774044d34c97",
   "metadata": {},
   "outputs": [
    {
     "data": {
      "text/plain": [
       "[3, 9]"
      ]
     },
     "execution_count": 75,
     "metadata": {},
     "output_type": "execute_result"
    }
   ],
   "source": [
    "[v[1],v[3]]"
   ]
  },
  {
   "cell_type": "code",
   "execution_count": 79,
   "id": "a5671d0a-ee2f-4349-8d0f-f8884daa3f88",
   "metadata": {},
   "outputs": [
    {
     "data": {
      "text/plain": [
       "array([ 3, 15,  9])"
      ]
     },
     "execution_count": 79,
     "metadata": {},
     "output_type": "execute_result"
    }
   ],
   "source": [
    "l = [1,5,3]\n",
    "v[l] #fancy index"
   ]
  },
  {
   "cell_type": "code",
   "execution_count": 81,
   "id": "682733c6-2232-4261-a021-c740a730dd1e",
   "metadata": {},
   "outputs": [
    {
     "data": {
      "text/plain": [
       "array([[0, 1, 2],\n",
       "       [3, 4, 5],\n",
       "       [6, 7, 8]])"
      ]
     },
     "execution_count": 81,
     "metadata": {},
     "output_type": "execute_result"
    }
   ],
   "source": [
    "# iki boyutta fancy\n",
    "m = np.arange(9).reshape(3,3)\n",
    "m"
   ]
  },
  {
   "cell_type": "code",
   "execution_count": 82,
   "id": "b65b5ca8-3a11-4b09-a74b-cb0e95f586b3",
   "metadata": {},
   "outputs": [
    {
     "data": {
      "text/plain": [
       "array([1, 5])"
      ]
     },
     "execution_count": 82,
     "metadata": {},
     "output_type": "execute_result"
    }
   ],
   "source": [
    "satir = np.array([0,1])\n",
    "sutun = np.array([1,2])\n",
    "m[satir,sutun]"
   ]
  },
  {
   "cell_type": "code",
   "execution_count": 84,
   "id": "865c8f95-c16b-4a9b-8669-4aba6b558e53",
   "metadata": {},
   "outputs": [
    {
     "data": {
      "text/plain": [
       "array([False, False, False, False, False])"
      ]
     },
     "execution_count": 84,
     "metadata": {},
     "output_type": "execute_result"
    }
   ],
   "source": [
    "# kosullu eleman islemleri\n",
    "v = np.array([1,2,3,4,5])"
   ]
  },
  {
   "cell_type": "code",
   "execution_count": 86,
   "id": "12941a8c-8455-4361-8af3-e949520b8493",
   "metadata": {},
   "outputs": [
    {
     "data": {
      "text/plain": [
       "array([False, False, False,  True,  True])"
      ]
     },
     "execution_count": 86,
     "metadata": {},
     "output_type": "execute_result"
    }
   ],
   "source": [
    "v > 3"
   ]
  },
  {
   "cell_type": "code",
   "execution_count": 87,
   "id": "256a3ced-6f3c-4b01-9e20-a0c7d24b8dbe",
   "metadata": {},
   "outputs": [
    {
     "data": {
      "text/plain": [
       "array([1, 2])"
      ]
     },
     "execution_count": 87,
     "metadata": {},
     "output_type": "execute_result"
    }
   ],
   "source": [
    "v[v < 3]"
   ]
  },
  {
   "cell_type": "code",
   "execution_count": 88,
   "id": "41912556-aff0-400a-9ebd-91d089fa45dc",
   "metadata": {},
   "outputs": [
    {
     "data": {
      "text/plain": [
       "array([3, 4, 5])"
      ]
     },
     "execution_count": 88,
     "metadata": {},
     "output_type": "execute_result"
    }
   ],
   "source": [
    "v[v > 2]"
   ]
  },
  {
   "cell_type": "code",
   "execution_count": 89,
   "id": "93137aa7-a8d4-4eab-bc93-732f7cc41bf4",
   "metadata": {},
   "outputs": [
    {
     "data": {
      "text/plain": [
       "array([2, 3, 4, 5])"
      ]
     },
     "execution_count": 89,
     "metadata": {},
     "output_type": "execute_result"
    }
   ],
   "source": [
    "v[v >= 2]"
   ]
  },
  {
   "cell_type": "code",
   "execution_count": 90,
   "id": "1e37738b-0d56-457c-a868-6c972b2437ca",
   "metadata": {},
   "outputs": [
    {
     "data": {
      "text/plain": [
       "array([1, 2])"
      ]
     },
     "execution_count": 90,
     "metadata": {},
     "output_type": "execute_result"
    }
   ],
   "source": [
    "v[v <= 2]"
   ]
  },
  {
   "cell_type": "code",
   "execution_count": 93,
   "id": "f2aa1773-ab2a-4dea-8c58-c651edd16af0",
   "metadata": {},
   "outputs": [
    {
     "data": {
      "text/plain": [
       "array([2])"
      ]
     },
     "execution_count": 93,
     "metadata": {},
     "output_type": "execute_result"
    }
   ],
   "source": [
    "v[v == 2]"
   ]
  },
  {
   "cell_type": "code",
   "execution_count": 94,
   "id": "8a26992f-4bf7-437e-8192-795ca19d23d2",
   "metadata": {},
   "outputs": [
    {
     "data": {
      "text/plain": [
       "array([1, 3, 4, 5])"
      ]
     },
     "execution_count": 94,
     "metadata": {},
     "output_type": "execute_result"
    }
   ],
   "source": [
    "v[v != 2]"
   ]
  },
  {
   "cell_type": "code",
   "execution_count": 95,
   "id": "f04364d9-924f-45e1-b773-d6a608d373a4",
   "metadata": {},
   "outputs": [
    {
     "data": {
      "text/plain": [
       "array([ 2,  4,  6,  8, 10])"
      ]
     },
     "execution_count": 95,
     "metadata": {},
     "output_type": "execute_result"
    }
   ],
   "source": [
    "v * 2"
   ]
  },
  {
   "cell_type": "code",
   "execution_count": 96,
   "id": "a240d4a2-e279-4a1f-978c-27f31641967d",
   "metadata": {},
   "outputs": [
    {
     "data": {
      "text/plain": [
       "array([0.2, 0.4, 0.6, 0.8, 1. ])"
      ]
     },
     "execution_count": 96,
     "metadata": {},
     "output_type": "execute_result"
    }
   ],
   "source": [
    "v / 5"
   ]
  },
  {
   "cell_type": "code",
   "execution_count": 97,
   "id": "13a516f2-9800-4fca-86a1-46fc067fc4c5",
   "metadata": {},
   "outputs": [
    {
     "data": {
      "text/plain": [
       "array([0.5, 1. , 1.5, 2. , 2.5])"
      ]
     },
     "execution_count": 97,
     "metadata": {},
     "output_type": "execute_result"
    }
   ],
   "source": [
    "v*5/10"
   ]
  },
  {
   "cell_type": "code",
   "execution_count": 100,
   "id": "bd08eca3-ec8e-4bc1-9e38-41e5f1047933",
   "metadata": {},
   "outputs": [
    {
     "data": {
      "text/plain": [
       "array([ 1,  4,  9, 16, 25])"
      ]
     },
     "execution_count": 100,
     "metadata": {},
     "output_type": "execute_result"
    }
   ],
   "source": [
    "v**2"
   ]
  },
  {
   "cell_type": "code",
   "execution_count": 101,
   "id": "d007fb40-f46c-479a-be48-1e89fa4dfbb4",
   "metadata": {},
   "outputs": [],
   "source": [
    "# matematiksel islemler\n",
    "v = np.array([1,2,3,4,5])"
   ]
  },
  {
   "cell_type": "code",
   "execution_count": 103,
   "id": "cb4ba6f1-f3fa-4d6b-89b0-0a8d8803ffa6",
   "metadata": {},
   "outputs": [
    {
     "data": {
      "text/plain": [
       "array([0, 1, 2, 3, 4])"
      ]
     },
     "execution_count": 103,
     "metadata": {},
     "output_type": "execute_result"
    }
   ],
   "source": [
    "v - 1"
   ]
  },
  {
   "cell_type": "code",
   "execution_count": 104,
   "id": "8c847cfb-4c6b-4678-b75a-a31e6c367921",
   "metadata": {},
   "outputs": [
    {
     "data": {
      "text/plain": [
       "array([ 5, 10, 15, 20, 25])"
      ]
     },
     "execution_count": 104,
     "metadata": {},
     "output_type": "execute_result"
    }
   ],
   "source": [
    "v * 5"
   ]
  },
  {
   "cell_type": "code",
   "execution_count": 105,
   "id": "7861812d-e571-4866-ae89-c93ef65796dc",
   "metadata": {},
   "outputs": [
    {
     "data": {
      "text/plain": [
       "array([0.2, 0.4, 0.6, 0.8, 1. ])"
      ]
     },
     "execution_count": 105,
     "metadata": {},
     "output_type": "execute_result"
    }
   ],
   "source": [
    "v / 5"
   ]
  },
  {
   "cell_type": "code",
   "execution_count": 106,
   "id": "f3f9aabf-1955-47cd-8bd9-c6b5b14d6640",
   "metadata": {},
   "outputs": [
    {
     "data": {
      "text/plain": [
       "array([-0.5,  0. ,  0.5,  1. ,  1.5])"
      ]
     },
     "execution_count": 106,
     "metadata": {},
     "output_type": "execute_result"
    }
   ],
   "source": [
    "v*5/10 - 1"
   ]
  },
  {
   "cell_type": "code",
   "execution_count": 107,
   "id": "d4fa89dd-43a0-482f-9357-19acf5ce5b3c",
   "metadata": {},
   "outputs": [],
   "source": [
    "# ufunc"
   ]
  },
  {
   "cell_type": "code",
   "execution_count": 108,
   "id": "0e3603cd-036a-4bb4-a69d-e5e34b68958a",
   "metadata": {},
   "outputs": [
    {
     "data": {
      "text/plain": [
       "array([0, 1, 2, 3, 4])"
      ]
     },
     "execution_count": 108,
     "metadata": {},
     "output_type": "execute_result"
    }
   ],
   "source": [
    "np.subtract(v,1) # v-1"
   ]
  },
  {
   "cell_type": "code",
   "execution_count": 109,
   "id": "8996a170-d226-4662-abb4-8e4243836892",
   "metadata": {},
   "outputs": [
    {
     "data": {
      "text/plain": [
       "array([2, 3, 4, 5, 6])"
      ]
     },
     "execution_count": 109,
     "metadata": {},
     "output_type": "execute_result"
    }
   ],
   "source": [
    "np.add(v,1) # v+4"
   ]
  },
  {
   "cell_type": "code",
   "execution_count": 110,
   "id": "0f77206e-519b-42aa-b413-3fb558f7b5f6",
   "metadata": {},
   "outputs": [
    {
     "data": {
      "text/plain": [
       "array([ 4,  8, 12, 16, 20])"
      ]
     },
     "execution_count": 110,
     "metadata": {},
     "output_type": "execute_result"
    }
   ],
   "source": [
    "np.multiply(v,4) # v*4"
   ]
  },
  {
   "cell_type": "code",
   "execution_count": 112,
   "id": "ccce7f1a-3944-4e7f-a7c7-a397c670974d",
   "metadata": {},
   "outputs": [
    {
     "data": {
      "text/plain": [
       "array([0.5, 1. , 1.5, 2. , 2.5])"
      ]
     },
     "execution_count": 112,
     "metadata": {},
     "output_type": "execute_result"
    }
   ],
   "source": [
    "np.divide(v,2) # v/2"
   ]
  },
  {
   "cell_type": "code",
   "execution_count": 113,
   "id": "e551cd44-3cd7-4c27-9801-eea019d4ce6d",
   "metadata": {},
   "outputs": [
    {
     "data": {
      "text/plain": [
       "array([  1,   8,  27,  64, 125])"
      ]
     },
     "execution_count": 113,
     "metadata": {},
     "output_type": "execute_result"
    }
   ],
   "source": [
    "np.power(v,3) # v**3"
   ]
  },
  {
   "cell_type": "code",
   "execution_count": 115,
   "id": "05f1cc36-94e7-4bbd-bde3-42620f8fcc95",
   "metadata": {},
   "outputs": [
    {
     "data": {
      "text/plain": [
       "array([1, 0, 1, 0, 1])"
      ]
     },
     "execution_count": 115,
     "metadata": {},
     "output_type": "execute_result"
    }
   ],
   "source": [
    "np.mod(v,2) # v%2"
   ]
  },
  {
   "cell_type": "code",
   "execution_count": 121,
   "id": "de862333-87d5-4a26-8837-fe3e65aae833",
   "metadata": {},
   "outputs": [
    {
     "data": {
      "text/plain": [
       "array([ 3,  5,  2, 99])"
      ]
     },
     "execution_count": 121,
     "metadata": {},
     "output_type": "execute_result"
    }
   ],
   "source": [
    "np.absolute(np.array([-3,5,2,-99]))"
   ]
  },
  {
   "cell_type": "code",
   "execution_count": 122,
   "id": "89d9aeb2-ad8b-447b-b550-be2936befa5d",
   "metadata": {},
   "outputs": [
    {
     "data": {
      "text/plain": [
       "0.9589157234143065"
      ]
     },
     "execution_count": 122,
     "metadata": {},
     "output_type": "execute_result"
    }
   ],
   "source": [
    "np.sin(360)"
   ]
  },
  {
   "cell_type": "code",
   "execution_count": 123,
   "id": "bbc44049-72cb-4a74-bfed-b9a2db09f4be",
   "metadata": {},
   "outputs": [
    {
     "data": {
      "text/plain": [
       "-0.5984600690578581"
      ]
     },
     "execution_count": 123,
     "metadata": {},
     "output_type": "execute_result"
    }
   ],
   "source": [
    "np.cos(180)"
   ]
  },
  {
   "cell_type": "code",
   "execution_count": 124,
   "id": "f5c99dd2-fcf5-4fa9-85f4-54a75b4f3c7a",
   "metadata": {},
   "outputs": [],
   "source": [
    "v = np.array([1,2,3])"
   ]
  },
  {
   "cell_type": "code",
   "execution_count": 125,
   "id": "831357d0-c343-4ed8-9695-77d9be28663c",
   "metadata": {},
   "outputs": [
    {
     "data": {
      "text/plain": [
       "array([0.        , 0.69314718, 1.09861229])"
      ]
     },
     "execution_count": 125,
     "metadata": {},
     "output_type": "execute_result"
    }
   ],
   "source": [
    "np.log(v)"
   ]
  },
  {
   "cell_type": "code",
   "execution_count": 126,
   "id": "5b2e1865-2b35-4bb2-85da-0d03971da082",
   "metadata": {},
   "outputs": [
    {
     "data": {
      "text/plain": [
       "array([0.       , 1.       , 1.5849625])"
      ]
     },
     "execution_count": 126,
     "metadata": {},
     "output_type": "execute_result"
    }
   ],
   "source": [
    "np.log2(v)"
   ]
  },
  {
   "cell_type": "code",
   "execution_count": null,
   "id": "27cd569f-3c65-4cb3-a381-4213d6e3f428",
   "metadata": {},
   "outputs": [],
   "source": [
    "?np"
   ]
  },
  {
   "cell_type": "code",
   "execution_count": 129,
   "id": "23fe9354-2576-4e91-81d8-41fcc2456260",
   "metadata": {},
   "outputs": [],
   "source": [
    "# cheatsheet"
   ]
  },
  {
   "cell_type": "markdown",
   "id": "3aa9d85c-0d2d-4faa-a30b-8023a2866435",
   "metadata": {},
   "source": [
    "5 * x0 + x1 = 12  \n",
    "x0 + 3 * x"
   ]
  },
  {
   "cell_type": "code",
   "execution_count": 135,
   "id": "d5503c12-00ec-48b7-8090-3f762dd491df",
   "metadata": {},
   "outputs": [],
   "source": [
    "a = np.array([[5,1],[1,3]])\n",
    "b = np.array([12,10])\n",
    "x = np.linalg.solve(a,b)\n",
    "x0, x1 = x"
   ]
  },
  {
   "cell_type": "code",
   "execution_count": 136,
   "id": "5f1b9ce0-6f15-497d-8ba2-c4fffec3d967",
   "metadata": {},
   "outputs": [
    {
     "data": {
      "text/plain": [
       "1.857142857142857"
      ]
     },
     "execution_count": 136,
     "metadata": {},
     "output_type": "execute_result"
    }
   ],
   "source": [
    "x0"
   ]
  },
  {
   "cell_type": "code",
   "execution_count": 137,
   "id": "a8b744fc-dc79-411d-aad1-986832cce0f3",
   "metadata": {},
   "outputs": [
    {
     "data": {
      "text/plain": [
       "2.7142857142857144"
      ]
     },
     "execution_count": 137,
     "metadata": {},
     "output_type": "execute_result"
    }
   ],
   "source": [
    "x1"
   ]
  }
 ],
 "metadata": {
  "kernelspec": {
   "display_name": "Python 3 (ipykernel)",
   "language": "python",
   "name": "python3"
  },
  "language_info": {
   "codemirror_mode": {
    "name": "ipython",
    "version": 3
   },
   "file_extension": ".py",
   "mimetype": "text/x-python",
   "name": "python",
   "nbconvert_exporter": "python",
   "pygments_lexer": "ipython3",
   "version": "3.9.13"
  }
 },
 "nbformat": 4,
 "nbformat_minor": 5
}
